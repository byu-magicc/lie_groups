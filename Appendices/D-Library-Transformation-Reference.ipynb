{
 "cells": [
  {
   "cell_type": "markdown",
   "metadata": {},
   "source": [
    "# Appendix D. Library Transformation Reference\n",
    "** Contributors: Mark E. Petersen **\n",
    "### Table Of Contents\n",
    "1. [Introduction](#Introduction)\n",
    "1. [Active and Passive Transformations](#Active-and-Passive-Transformations)\n",
    "1. [Reference Table](#Reference-Table)"
   ]
  },
  {
   "cell_type": "markdown",
   "metadata": {},
   "source": [
    "## Introduction\n",
    "\n",
    "There are many types of libraries that can be used for attitude representation and transformations. It is essential to know if they libraries perform active (alibi) or passive (alias) transformations. This appendix aims at describing the difference between active and passive transformations and providing a reference table to list what type of transformations libraries provide. "
   ]
  },
  {
   "cell_type": "markdown",
   "metadata": {},
   "source": [
    "## Active and Passive Transformations\n",
    "A active transformation physically changes the location of a point and does not change it's basis. A passive transformation doesn't change the physical location of a point rather it's basis. The image below shows an active transformation (left) and a passive transformation (right).\n",
    "\n",
    "<img src='files/PassiveActive.jpg'>\n",
    "\n",
    "For more information on active and passive transformations click [here](https://en.wikipedia.org/wiki/Active_and_passive_transformation)"
   ]
  },
  {
   "cell_type": "markdown",
   "metadata": {},
   "source": [
    "## Reference Table\n",
    "\n",
    "| Library | Transformation |\n",
    "|---------|----------------|\n",
    "| ROS_tf  | Passive        |\n",
    "|         |                |\n",
    "|         |                |"
   ]
  }
 ],
 "metadata": {
  "kernelspec": {
   "display_name": "Python 3",
   "language": "python",
   "name": "python3"
  },
  "language_info": {
   "codemirror_mode": {
    "name": "ipython",
    "version": 3
   },
   "file_extension": ".py",
   "mimetype": "text/x-python",
   "name": "python",
   "nbconvert_exporter": "python",
   "pygments_lexer": "ipython3",
   "version": "3.5.2"
  }
 },
 "nbformat": 4,
 "nbformat_minor": 2
}
