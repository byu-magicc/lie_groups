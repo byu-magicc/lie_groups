{
 "cells": [
  {
   "cell_type": "markdown",
   "metadata": {},
   "source": [
    "# Lie Group SO(3) Applied to Quadcopter\n",
    "This notebook will go through the dynamics of a quadrotor when using the SO(3) Lie Group attitude representation as well as how an MPC controller can be designed for the system. The intention of this notebook is to help solidfy the ideas we have been learning on Lie Groups and to show an example of how they can be used in practice.\n",
    "\n",
    "### Table of Contents\n",
    "\n",
    "1. [Nomenclature](#Nomenclature)\n",
    "1. [Quadcopter Dynamics](#Quadcopter-Dynamics)\n",
    " 1. [Kinematics on the Manifold](#Kinematics-on-the-Manifold)\n",
    "1. [Control Design](#Control-Design)\n",
    " 1. [Derivation of Error State Dynamics](#Derivation-of-Error-State-Dynamics)\n",
    " 1. [Summary of Error State Dynamics](#Summary-of-Error-State-Dynamics)\n",
    " 1. [Jacobian Linearization](#Jacobian-Linearization)\n",
    " 1. [MPC Design](#MPC-Design)\n",
    "1. [Simulation](#Simulation)\n",
    " 1. [Framework](#Framework)\n",
    " 1. [Results](#Results)\n",
    "    1. [Hourglass Waypoint Path Videos](#Hourglass-Waypoint-Path-Videos)\n",
    "    1. [Hourglass Waypoint Path Images](#Hourglass-Waypoint-Path-Images)\n",
    "    1. [Angle Wrapping Videos](#Angle-Wrapping-Videos)\n",
    "    1. [Angle Wrapping Images](#Angle-Wrapping-Images)\n",
    "    1. [Smart Angle Videos](#Smart-Angle-Videos)\n",
    "    1. [Smart Angle Images](#Smart-Angle-Images)\n",
    "$\\newcommand{\\b}[1]{\\textbf{#1}}$\n",
    "$\\newcommand{\\bs}[1]{\\boldsymbol{#1}}$"
   ]
  },
  {
   "cell_type": "markdown",
   "metadata": {},
   "source": [
    "## Nomenclature\n",
    "This section defines the coordinate frames, variables, and operators that will be used throughout this notebook. All variable descriptors (subscripts and superscripts) are established here for the entire notebook. If there are no descriptors on a variable, they should be assumed to be the same as the descriptors on the respective variables in this section."
   ]
  },
  {
   "cell_type": "markdown",
   "metadata": {},
   "source": [
    "inertial frame: global origin following the NED convention\n",
    "\n",
    "vehicle frame: located at the quadcopter's center of gravity following the NED convention\n",
    "\n",
    "body frame: located at the quadcopter's COG with x-axis pointing to front propeller, y-axis pointing to right propeller, and z-axing pointing to the underside\n",
    "\n",
    "$\\newcommand{\\b}[1]{\\textbf{#1}}$\n",
    "$\\b{p}_{b/i}^i$: position of quadrotor's body frame with respect to the inertial frame, expressed in the inertial frame\n",
    "\n",
    "$\\b{v}_{b/i}^b$: velocity of body frame with respect to inertial frame, expressed in the body frame\n",
    "\n",
    "$R_b^v$: rotation matrix describing the attitude of the body frame, expressed in the vehicle frame\n",
    "\n",
    "$\\bs{\\phi}_{b}^v$: vectorized rotation describing attidude of the body frame, expressed in the vehicle frame\n",
    "\n",
    "$\\bs{\\omega}_{b/i}^b$: angular velocity of the body frame with respect to the inertial frame, expressed in the body frame\n",
    "\n",
    "$f^b$: total force produced from all 4 motors expressed in body frame, not a vector (always acts along $z^b$-axis)\n",
    "\n",
    "$\\bs{\\tau}^b$: torque about 3 axes of body frame expressed in body frame\n",
    "\n",
    "$\\hat{\\b{i}},\\hat{\\b{j}},\\hat{\\b{k}}$: orthonormal unit vectors representing the x, y, and z axes, respectively (e.g. $\\hat{\\b{k}} = [0,0,1]^T$)\n",
    "\n",
    "$[\\cdot]_\\times$: skew-symmetric operator, used as a cross product ($[\\b{x}]_x \\b{y} = \\b{x} \\times \\b{y}$)\n",
    "\n",
    "$[\\cdot]^\\wedge$: hat operator - maps from $\\mathbb{R}^3$ to Lie Algebra $[\\mathbb{R}^3\\rightarrow{\\mathfrak so}(3)]$\n",
    "\n",
    "$[\\cdot]^\\vee$: vee operator - maps from Lie Algebra to $\\mathbb{R}^3 [{\\mathfrak so}(3)\\rightarrow \\mathbb{R}^3]$\n",
    "\n",
    "$\\log()$: matrix logarithmic operator - maps from Lie Group to Lie Algebra [SO(3) $\\rightarrow{\\mathfrak so}(3)$]\n",
    "\n",
    "$\\exp()$: matrix exponential operator - maps from Lie Algebra to Lie Group [${\\mathfrak so}(3)\\rightarrow$ SO(3)]\n",
    "\n",
    "![Lie Operators Aid](files/Lie_operators_aid.png)\n",
    "\n",
    "[TOC](#Table-of-Contents)"
   ]
  },
  {
   "cell_type": "markdown",
   "metadata": {},
   "source": [
    "## Quadcopter Dynamics\n",
    "For more detail on how these equations are derived, see [Dr. Beard's PDF](https://scholarsarchive.byu.edu/cgi/viewcontent.cgi?article=2324&context=facpub)."
   ]
  },
  {
   "cell_type": "markdown",
   "metadata": {},
   "source": [
    "\\begin{eqnarray}\n",
    "\\dot{\\b{p}}_{b/i}^i &=& R_b^v \\b{v}_{b/i}^b \\\\\n",
    "\\dot{\\b{v}}_{b/i}^b &=& [\\b{v}_{b/i}^b]_\\times \\bs{\\omega}_{b/i}^b -\\frac{f^b}{m}\\hat{\\b{k}} + R_v^b \\b{g}^v - \\frac{\\mu}{m} \\b{v}_{b/i}^b \\\\\n",
    "\\dot{R}_b^v &=& R_b^v [\\bs{\\omega}_{b/i}^b]^\\wedge\\\\\n",
    "\\dot{\\bs{\\omega}}_{b/i}^b &=& J^{-1} ([-\\bs{\\omega}_{b/i}^b]_\\times J \\bs{\\omega}_{b/i}^b + \\bs{\\tau}^b) \\\\\n",
    "\\end{eqnarray}\n",
    "\n",
    "[TOC](#Table-of-Contents)"
   ]
  },
  {
   "cell_type": "markdown",
   "metadata": {},
   "source": [
    "### Kinematics on the Manifold\n",
    "This derivation is very similar to that from [Unit 1 - Chapter 5: Optimal Control](../Unit-1-SO2/1.5-Optimal-Control.ipynb#Kinematics-Revisited-from-a-Manifold-Perspective). It is taking the time derivative of the already vectorized rotation, expressing the body frame (which changes with time) in the vehicle frame (which has a fixed rotation with respect to time). The final equation below replaces the kinematic equation on the SO(3) manifold, $R=R[\\bs{\\omega}]^\\wedge$, with a vectorized kinematic equation that can then be used in the MPC controller."
   ]
  },
  {
   "cell_type": "markdown",
   "metadata": {},
   "source": [
    "$\\newcommand{lp}{\\left(}$\n",
    "$\\newcommand{rp}{\\right)}$\n",
    "\\begin{eqnarray}\n",
    "\\frac{d}{dt}\\bs{\\phi}_{b(t)}^v &=& \\lim_{\\Delta t \\to 0} \\frac{1}{\\Delta t} \\lp [\\log\\lp [R_{b(t + \\Delta t)}^v]^{-1} \\circ R_{b(t)}^v \\rp]^\\vee \\rp \\\\\n",
    "&=& \\lim_{\\Delta t \\to 0} \\frac{1}{\\Delta t} \\lp [\\log\\lp R_v^{b(t + \\Delta t)} \\circ R_{b(t)}^v \\rp]^\\vee \\rp \\\\\n",
    "&=& \\lim_{\\Delta t \\to 0} \\frac{1}{\\Delta t} \\lp \n",
    "[\\log\\lp\\exp\\lp[\\bs{\\delta}_{b(t)}^{b(t + \\Delta t)}]^\\wedge\\rp \\circ R_v^{b(t)} \\circ R_{b(t)}^v \\rp]^\\vee \n",
    "\\rp \\\\\n",
    "&=& \\lim_{\\Delta t \\to 0} \\frac{1}{\\Delta t} \\lp [\\log\\lp\\exp\\lp[\\bs{\\delta}_{b(t)}^{b(t + \\Delta t)}]^\\wedge\\rp \\rp]^\\vee \\rp \\\\\n",
    "&=& \\lim_{\\Delta t \\to 0} \\frac{1}{\\Delta t} \\lp \\Delta t \\bs{\\omega}_{b(t)/i}^{b(t)} \\rp \\\\\n",
    "&=& \\bs{\\omega}_{b(t)/i}^{b(t)}\n",
    "\\end{eqnarray}\n",
    "\n",
    "[TOC](#Table-of-Contents)"
   ]
  },
  {
   "cell_type": "markdown",
   "metadata": {},
   "source": [
    "## Control Design\n",
    "In order to use MPC, error-state dynamics need to be used. This is because MPC uses convex optimization to minimize a cost function. Generally, MPC will minimize states and inputs. In order to be unbiased, the terms being minimized should be driven to 0. Using error-states allows the optimization solver to drive the error to 0.\n",
    "\n",
    "The derivation below shows how we will be using $R_r$, which is the reference rotation matrix expressed in the vehicle frame. Note that the descriptors on each variable indicating frame of reference are dropped from here on out for readability, but the variables are all used as described in the [Nomenclature](#Nomenclature) section. \n",
    "\n",
    "Box-minus explained: tilde-states are defined here as actual-state minus reference-state. Rotation matrices can't be added or subtracted together which means you can't say $\\tilde{R}=R-R_r$. This is why a combination of the log and vee operators are used to map from SO(3) to $\\mathbb{R}^3$. This would suggest that the equation would be $\\tilde{\\bs{\\phi}} = [\\log(R)]^\\vee - [\\log(R_r)]^\\vee$; however, $[\\log(R)]^\\vee - [\\log(R_r)]^\\vee$ is an invalid operation and $[\\log(R_r^T R)]^\\vee$ needs to be used instead. The way I make sense of this is remembering that $\\log(x)-\\log(y) = \\log(x/y)$. Since you can't divide matrices, multiplying by the inverse (which equals the transpose for rotation matrices) works like division."
   ]
  },
  {
   "cell_type": "markdown",
   "metadata": {},
   "source": [
    "\\begin{eqnarray}\n",
    "\\tilde{\\bs{\\phi}} &=& R\\boxminus R_r \\\\\n",
    "\\tilde{\\bs{\\phi}} &=& [\\log(R_r^T R)]^\\vee\n",
    "\\end{eqnarray}\n",
    "\n",
    "\\begin{eqnarray}\n",
    "&\\exp([\\tilde{\\bs{\\phi}}]^\\wedge) = R_r^T R \\\\\n",
    "&\\exp([\\tilde{\\bs{\\phi}}]^\\wedge)R^T = R_r^T \\\\\n",
    "\\end{eqnarray}\n",
    "\n",
    "\\begin{eqnarray}\n",
    "R_r &=& R \\exp([\\tilde{\\bs{\\phi}}]^\\wedge)^T \\\\\n",
    "&=& R \\exp(([\\tilde{\\bs{\\phi}}]^\\wedge)^T) \\\\\n",
    "&=& R \\exp(-[\\tilde{\\bs{\\phi}}]^\\wedge)\n",
    "\\end{eqnarray}\n",
    "\n",
    "Knowing that $\\exp(X) = I + X + \\frac{X^2}{2!}+...$ and that $[\\tilde{\\bs{\\phi}}]^\\wedge$ is an error term (meaning that it should be small, especially when multiplied by itself),\n",
    "\n",
    "\\begin{eqnarray}\n",
    "R_r \\approx R(I-[\\tilde{\\bs{\\phi}}]^\\wedge)\n",
    "\\end{eqnarray}\n",
    "\n",
    "[TOC](#Table-of-Contents)"
   ]
  },
  {
   "cell_type": "markdown",
   "metadata": {},
   "source": [
    "### Derivation of Error-State Dynamics\n",
    "This section will derive the equations for error-state dynamics, needed for MPC control. There are 2 different ways that approximations are made throughout these derivations: 1) the substitution for $R_r$ using a 1st order approximation of a matrix exponential - shown above 2) whenever there are 2 tilde variables multiplied together, they are assumed to be 0 because they should be quite small. Another thing to note is that and the end of the position error-state and velocity error-state derivations, a trick was used to isolate $\\tilde{\\bs{\\phi}}$ by playing with the fact that the hat operator is the same as a cross-product operator. This works for SO(3), but might not work for other manifolds."
   ]
  },
  {
   "cell_type": "markdown",
   "metadata": {},
   "source": [
    "#### Position Error State\n",
    "$\\newcommand{\\b}[1]{\\textbf{#1}}$\n",
    "\\begin{eqnarray}\n",
    "\\dot{\\tilde{\\b{p}}} &=& \\dot{\\b{p}} - \\dot{\\b{p}}_r \\\\ \n",
    "&=& R\\b{v} - R_r \\b{v}_r \\\\\n",
    "&\\approx& R\\b{v} - R (I-[\\tilde{\\bs{\\phi}}]^\\wedge) (\\b{v}-\\tilde{\\b{v}}) \\\\\n",
    "&=& R\\b{v} - (R-R[\\tilde{\\bs{\\phi}}]^\\wedge) (\\b{v}-\\tilde{\\b{v}}) \\\\\n",
    "&=& R\\b{v} - R\\b{v} + R\\tilde{\\b{v}} + R[\\tilde{\\bs{\\phi}}]^\\wedge\\b{v} -R[\\tilde{\\bs{\\phi}}]^\\wedge \\tilde{\\b{v}} \\\\\n",
    "&\\approx& R\\tilde{\\b{v}} + R[\\tilde{\\bs{\\phi}}]^\\wedge \\b{v} \\\\\n",
    "&=& R\\tilde{\\b{v}} - R[\\b{v}]_\\times\\tilde{\\bs{\\phi}}\n",
    "\\end{eqnarray}"
   ]
  },
  {
   "cell_type": "markdown",
   "metadata": {},
   "source": [
    "#### Attitude Error State\n",
    "\\begin{eqnarray}\n",
    "\\dot{\\tilde{\\bs{\\phi}}} &=& \\dot{\\bs{\\phi}} - \\dot{\\bs{\\phi}}_r \\\\\n",
    "&=& \\bs{\\omega} - \\bs{\\omega}_r \\\\\n",
    "&=& \\tilde{\\bs{\\omega}}\n",
    "\\end{eqnarray}"
   ]
  },
  {
   "cell_type": "markdown",
   "metadata": {},
   "source": [
    "#### Velocity Error State\n",
    "\\begin{eqnarray}\n",
    "\\dot{\\tilde{\\b{v}}} &=& \\dot{\\b{v}} - \\dot{\\b{v}}_r \\\\\n",
    "&=& ([\\b{v}]_\\times\\bs{\\omega} - \\frac{f}{m}\\hat{\\b{k}} +R^T\\b{g}-\\frac{\\mu}{m} \\b{v}) - ([\\b{v}_r]_\\times\\bs{\\omega}_r - \\frac{f_r}{m}\\hat{\\b{k}} +R_r^T\\b{g} - \\frac{\\mu}{m} \\b{v}_r) \\\\\n",
    "&=& ([\\b{v}]_\\times\\bs{\\omega} - \\frac{f}{m}\\hat{\\b{k}} +R^T\\b{g}-\\frac{\\mu}{m} \\b{v}) - ([\\b{v}-\\tilde{\\b{v}}]_\\times(\\bs{\\omega}-\\tilde{\\bs{\\omega}}) - \\frac{f-\\tilde{f}}{m}\\hat{\\b{k}} +(Rexp(-[\\tilde{\\bs{\\phi}}]^\\wedge))^T\\b{g} -\\frac{\\mu}{m} (\\b{v}-\\tilde{\\b{v}})) \\\\\n",
    "&=& ([\\b{v}]_\\times\\bs{\\omega} - \\frac{f}{m}\\hat{\\b{k}} +R^T\\b{g}-\\frac{\\mu}{m} \\b{v}) - ([\\b{v}]_\\times\\bs{\\omega}-[\\b{v}]_\\times\\tilde{\\bs{\\omega}} +[\\bs{\\omega}]_\\times\\tilde{\\b{v}}+[\\tilde{\\b{v}}]_\\times\\tilde{\\bs{\\omega}} - \\frac{f-\\tilde{f}}{m}\\hat{\\b{k}} +exp([\\tilde{\\bs{\\phi}}]^\\wedge)R^T\\b{g} -\\frac{\\mu}{m} \\b{v} +\\frac{\\mu}{m}\\tilde{\\b{v}}) \\\\\n",
    "&\\approx& ([\\b{v}]_\\times\\bs{\\omega} - \\frac{f}{m}\\hat{\\b{k}} +R^T\\b{g}-\\frac{\\mu}{m} \\b{v}) - ([\\b{v}]_\\times\\bs{\\omega}-[\\b{v}]_\\times\\tilde{\\bs{\\omega}} +[\\bs{\\omega}]_\\times\\tilde{\\b{v}}+[\\tilde{\\b{v}}]_\\times\\tilde{\\bs{\\omega}} - \\frac{f-\\tilde{f}}{m}\\hat{\\b{k}} +(I+[\\tilde{\\bs{\\phi}}]^\\wedge)R^T\\b{g} -\\frac{\\mu}{m} \\b{v} +\\frac{\\mu}{m}\\tilde{\\b{v}}) \\\\\n",
    "&=& ([\\b{v}]_\\times\\bs{\\omega} - \\frac{f}{m}\\hat{\\b{k}} +R^T\\b{g}-\\frac{\\mu}{m} \\b{v}) - ([\\b{v}]_\\times\\bs{\\omega}-[\\b{v}]_\\times\\tilde{\\bs{\\omega}}+[\\bs{\\omega}]_\\times\\tilde{\\b{v}}+[\\tilde{\\b{v}}]_\\times\\tilde{\\bs{\\omega}} - \\frac{f-\\tilde{f}}{m}\\hat{\\b{k}} +R^T\\b{g}+[\\tilde{\\bs{\\phi}}]^\\wedge R^T\\b{g} -\\frac{\\mu}{m} \\b{v} +\\frac{\\mu}{m}\\tilde{\\b{v}}) \\\\\n",
    "&=& [\\b{v}]_\\times\\tilde{\\bs{\\omega}}-[\\bs{\\omega}]_\\times\\tilde{\\b{v}}-[\\tilde{\\b{v}}]_\\times\\tilde{\\bs{\\omega}} - \\frac{\\tilde{f}}{m}\\hat{\\b{k}}-[\\tilde{\\bs{\\phi}}]^\\wedge R^T\\b{g} -\\frac{\\mu}{m}\\tilde{\\b{v}}) \\\\\n",
    "&\\approx& [\\b{v}]_\\times\\tilde{\\bs{\\omega}}-[\\bs{\\omega}]_\\times\\tilde{\\b{v}}+[R^T\\b{g}]_\\times\\tilde{\\bs{\\phi}} - \\frac{\\tilde{f}}{m}\\hat{\\b{k}} - \\frac{\\mu}{m} \\tilde{\\b{v}}\n",
    "\\end{eqnarray}"
   ]
  },
  {
   "cell_type": "markdown",
   "metadata": {},
   "source": [
    "#### Angular Velocity Error State\n",
    "\\begin{eqnarray}\n",
    "\\dot{\\tilde{\\bs{\\omega}}} &=& \\dot{\\bs{\\omega}} - \\dot{\\bs{\\omega}}_r \\\\\n",
    "&=& (-J^{-1}[\\bs{\\omega}]_\\times J\\bs{\\omega} + J^{-1}\\bs{\\tau}) - (-J^{-1}[\\bs{\\omega}_r]_\\times J\\bs{\\omega}_r + J^{-1}\\bs{\\tau}_r) \\\\\n",
    "&=& (-J^{-1}[\\bs{\\omega}]_\\times J\\bs{\\omega} + J^{-1}\\bs{\\tau}) - (-J^{-1}[\\bs{\\omega}-\\tilde{\\bs{\\omega}}]_\\times J(\\bs{\\omega}-\\tilde{\\bs{\\omega}}) + J^{-1}(\\bs{\\tau}-\\tilde{\\bs{\\tau}})) \\\\\n",
    "&=& J^{-1}\\tilde{\\bs{\\tau}} -J^{-1}[\\bs{\\omega}]_\\times J\\bs{\\omega} +J^{-1}[\\bs{\\omega}-\\tilde{\\bs{\\omega}}]_\\times J(\\bs{\\omega}-\\tilde{\\bs{\\omega}}) \\\\\n",
    "&=& J^{-1}\\tilde{\\bs{\\tau}} -J^{-1}[\\bs{\\omega}]_\\times J\\bs{\\omega} +J^{-1}[\\bs{\\omega}-\\tilde{\\bs{\\omega}}]_\\times J\\bs{\\omega}-J^{-1}[\\bs{\\omega}-\\tilde{\\bs{\\omega}}]_\\times J\\tilde{\\bs{\\omega}} \\\\\n",
    "&=& J^{-1}\\tilde{\\bs{\\tau}} -J^{-1}[\\bs{\\omega}]_\\times J\\bs{\\omega} +J^{-1}[\\bs{\\omega}]_\\times J\\bs{\\omega}-J^{-1}[\\tilde{\\bs{\\omega}}]_\\times J\\bs{\\omega}  -J^{-1}[\\bs{\\omega}]_\\times J\\tilde{\\bs{\\omega}} +J^{-1}[\\tilde{\\bs{\\omega}}]_\\times J\\tilde{\\bs{\\omega}} \\\\\n",
    "&=& J^{-1}\\tilde{\\bs{\\tau}} -J^{-1}[\\tilde{\\bs{\\omega}}]_\\times J\\bs{\\omega}  -J^{-1}[\\bs{\\omega}]_\\times J\\tilde{\\bs{\\omega}} +J^{-1}[\\tilde{\\bs{\\omega}}]_\\times J\\tilde{\\bs{\\omega}} \\\\\n",
    "&=& J^{-1}\\tilde{\\bs{\\tau}} +J^{-1}[J\\bs{\\omega}]_\\times\\tilde{\\bs{\\omega}}  -J^{-1}[\\bs{\\omega}]_\\times J\\tilde{\\bs{\\omega}} +J^{-1}[\\tilde{\\bs{\\omega}}]_\\times J\\tilde{\\bs{\\omega}} \\\\\n",
    "&\\approx& J^{-1}\\tilde{\\bs{\\tau}} +J^{-1}([J\\bs{\\omega}]_\\times-[\\bs{\\omega}]_\\times J)\\tilde{\\bs{\\omega}}\n",
    "\\end{eqnarray}\n",
    "\n",
    "[TOC](#Table-of-Contents)"
   ]
  },
  {
   "cell_type": "markdown",
   "metadata": {},
   "source": [
    "### Summary of Error State Dynamics\n",
    "These are approximations for the dynamics we will use to derive state-space matrices. We will be using a state-space model for the MPC controller. Remember that state-space form is $\\dot{\\tilde{\\b{x}}} \\approx A\\tilde{\\b{x}}+B\\tilde{\\b{u}}$."
   ]
  },
  {
   "cell_type": "markdown",
   "metadata": {},
   "source": [
    "\\begin{eqnarray}\n",
    "\\dot{\\tilde{\\b{p}}} &\\approx& R\\tilde{\\b{v}} - R[\\b{v}]_\\times\\tilde{\\bs{\\phi}} \\\\\n",
    "\\dot{\\tilde{\\bs{\\phi}}} &=& \\tilde{\\bs{\\omega}} \\\\\n",
    "\\dot{\\tilde{\\b{v}}} &\\approx& [\\b{v}]_\\times\\tilde{\\bs{\\omega}}-[\\bs{\\omega}]_\\times\\tilde{\\b{v}}+[R^T\\b{g}]_\\times\\tilde{\\bs{\\phi}} - \\frac{\\tilde{f}}{m}\\hat{\\b{k}} - \\frac{\\mu}{m} \\tilde{\\b{v}} \\\\\n",
    "\\dot{\\tilde{\\bs{\\omega}}} &\\approx& J^{-1}\\tilde{\\b{$\\tau$}} +J^{-1}([J\\bs{\\omega}]_\\times-[\\bs{\\omega}]_\\times J)\\tilde{\\bs{\\omega}}\n",
    "\\end{eqnarray}\n",
    "\n",
    "[TOC](#Table-of-Contents)"
   ]
  },
  {
   "cell_type": "markdown",
   "metadata": {},
   "source": [
    "### Jacobian Linearization\n",
    "In order to find the A and B matrices, we will use Jacobian linearization on the equations for error state dynamics. We will partially linearize about equilibrium as will be explained. We will assume that the equilibrium for the attitude of the quadcopter is its current attitude: $R_e = R$. We will not linearize about the reference command $R_r$. This assumption is made due to previous experimentation. I found that the results are the best when $R_e = R$. My thought is that, since I am not really following a trajectory but am using step commands, $R_e$ and $R_r$ both have the z-axis pointing down in an NED coordinate frame. This means that the model used for MPC always thinks the sum of all 4 motor forces acts perfectly upward even though when the vehicle turns, the force vector also rotates. This makes gravity seem stronger due to a loss of force applied in the upward direction and there is a negative coupling effect on the vehicle's height (it will drop or do funny things when the vehicle is tilted). To compensate for this, $R$ is used as $R_e$ since gravity will be properly rotated. All of the other equilibrium values will remain at true equilibrium: $\\bs{\\tau}_e=\\b{v}_e=\\bs{\\omega}_e=\\b{p}_e=[0,0,0]^T, \\ \\ f_e = mg$."
   ]
  },
  {
   "cell_type": "markdown",
   "metadata": {},
   "source": [
    "$$\\tilde{\\b{x}}=[\\tilde{\\b{p}},\\tilde{\\bs{\\phi}},\\tilde{\\b{v}},\\tilde{\\bs{\\omega}}]^T,\\ \\ \\ \\ \\tilde{\\b{u}}=[\\tilde{f},\\tilde{\\bs{\\tau}}]^T$$\n",
    "\n",
    "$\\ $\n",
    "\n",
    "\\begin{eqnarray}\n",
    "A &=& \\frac{\\partial\\dot{\\tilde{\\b{x}}}}{\\partial\\tilde{\\b{x}}}|_e \\\\\n",
    "&\\ & \\\\\n",
    "&=& \\begin{pmatrix} \\b{0} & -R_e[\\b{v}_e]_\\times & R_e & \\b{0} \\\\ \\b{0} & \\b{0} & \\b{0} & I \\\\ \\b{0} & [R_e^T\\b{g}]_\\times & -\\frac{\\mu}{m} I-[\\bs{\\omega}_e]_\\times & [\\b{v}_e]_\\times \\\\ \\b{0} & \\b{0} & \\b{0} & [J\\bs{\\omega}_e]_\\times-[\\bs{\\omega}_e]_\\times J \\end{pmatrix} \\\\\n",
    "&\\ & \\\\\n",
    "&=& \\begin{pmatrix} \\b{0} & \\b{0} & R & \\b{0} \\\\ \\b{0} & \\b{0} & \\b{0} & I \\\\ \\b{0} & [R^T\\b{g}]_\\times & -\\frac{\\mu}{m} I & \\b{0} \\\\ \\b{0} & \\b{0} & \\b{0} & \\b{0} \\end{pmatrix}\n",
    "&\\ & \\\\\n",
    "&\\ & \\\\\n",
    "&\\ & \\\\\n",
    "B &=& \\frac{\\partial\\dot{\\tilde{\\b{x}}}}{\\partial\\tilde{\\b{u}}}|_e \\\\\n",
    "&\\ & \\\\\n",
    "&=&\\begin{pmatrix} \\b{0}_{8x1} & \\b{0}_{8x3} \\\\ -\\frac{1}{m} & \\b{0}_{1x3} \\\\ \\b{0}_{3x1} & J^{-1} \\end{pmatrix}\n",
    "\\end{eqnarray}\n",
    "\n",
    "If you want to use motor signals as inputs $(\\tilde{\\b{u}}=[\\delta_f,\\delta_r,\\delta_b,\\delta_l]^T)$ with the assumption that $F_*=k_1\\delta_*$ and $\\tau_*=k_2\\delta_*$, then\n",
    "\n",
    "$$B=\\begin{pmatrix} \\b{0}_{8x1} & \\b{0}_{8x3} \\\\ -\\frac{1}{m} & \\b{0}_{1x3} \\\\ \\b{0}_{3x1} & J^{-1} \\end{pmatrix} \\begin{pmatrix} k_1 & k_1&k_1&k_1 \\\\ {0} & -\\frac{d k_1}{J_x}&{0}&\\frac{d k_1}{J_x} \\\\ \\frac{d k_1}{J_y} & {0} & -\\frac{d k_1}{J_y}&{0} \\\\ -\\frac{k_2}{J_z} & \\frac{k_2}{J_z}&-\\frac{k_2}{J_z}&\\frac{k_2}{J_z} \\end{pmatrix}$$\n",
    "\n",
    "As a side note, if you want to use h (height as a positive number) as a state rather than down from NED (a negative number) then you just multiply the 3rd row of A by -1. This is how the simulations below were implemented.\n",
    "\n",
    "[TOC](#Table-of-Contents)"
   ]
  },
  {
   "cell_type": "markdown",
   "metadata": {},
   "source": [
    "### MPC Design\n",
    "MPC, which is similar to LQR, was explained in [Unit 1 - Chapter 5: Optimal Control](../Unit-1-SO2/1.5-Optimal-Control.ipynb#Linear-Model-Predictive-Control). As a refresher, MPC uses a convex optimization solver (CVXGEN) with a model (state-space) to predict a defined number of time-steps into the future by varying the input, u. The first step is taken (apply the first set of calculated inputs) and then the process is repeated, predicting the same number of steps into the future starting from the new updated states. The optimization solver minimizes a cost function subject to the provided constraints. \n",
    "\n",
    "The time horizon and the discretization time could be chosen in a different way, but I used a time horizon of 10 steps with the size of the step (discretization time) being the settling time of the system divided by the time horizon. This means my MPC controller will take 10 equally spaced steps to predict 4 seconds into the future. Theoretically, better performance would come by increasing the time horizon and decreasing the discretization time; however, this becomes much more computationally expensive. Through some experimentation, I found that a time horizon greater than 10 usually doesn't make much of a difference. This could be due to the fact that MPC only takes the 1st of the predicted steps and then recalculates everything all over again."
   ]
  },
  {
   "cell_type": "markdown",
   "metadata": {},
   "source": [
    "\\begin{eqnarray}\n",
    "t_{settle} &=& 5s \\\\\n",
    "N &=& 10\n",
    "\\end{eqnarray}\n",
    "\n",
    "$\\ \\ \\ \\ \\ \\ \\ \\ \\ \\ \\ \\ \\ \\ \\ \\ \\ \\ \\ \\ \\ \\ \\ \\ \\ \\ \\ \\ \\ \\ \\ \\ \\ \\ \\ \\ \\ \\ \\ \\ T_s = \\frac{t_{settle}}{N} = 0.5s \\ \\ \\ \\  $ where $T_s$ is the discretization time (step size) for the A and B matrices"
   ]
  },
  {
   "cell_type": "markdown",
   "metadata": {},
   "source": [
    "#### Cost Function\n",
    "\n",
    "$$J = \\sum_{k=0}^N \\{(\\b{x}[k]-\\b{x}_{r})^T W_x (\\b{x}[k]-\\b{x}_{r})+(\\b{u}[k]-\\b{u}_{r})^T W_u (\\b{u}[k]-\\b{u}_{r})\\}$$"
   ]
  },
  {
   "cell_type": "markdown",
   "metadata": {},
   "source": [
    "#### Constraints\n",
    "\n",
    "$\\ \\ \\ \\ \\ \\ \\ \\ \\ \\ \\ \\ \\ \\ \\ \\ \\ \\ \\ \\ \\ \\ \\ \\ \\ \\ \\ \\ \\ \\ \\ \\ \\ \\ \\ \\ \\ \\ \\ \\ \\b{x}[k+1] == A(\\b{x}[k]-\\b{x}_e) + B(\\b{u}[k]-\\b{u}_e)\\ \\ \\ $ this says that the system's dynamics must be true\n",
    "\n",
    "$\\ \\ \\ \\ \\ \\ \\ \\ \\ \\ \\ \\ \\ \\ \\ \\ \\ \\ \\ \\ \\ \\ \\ \\ \\ \\ \\ \\ \\ \\ \\ \\ \\ \\ \\ \\ \\ \\ \\ \\ \\ \\ \\ \\ \\ \\ \\ \\ \\ \\ \\ \\ \\ \\ \\ u_{min} <= \\b{u}[k] <= u_{max}\\ \\ \\ $ this allows MPC to know the input saturation limits\n",
    "\n",
    "$\\ \\ \\ \\ \\ \\ \\ \\ \\ \\ \\ \\ \\ \\ \\ \\ \\ \\ \\ \\ \\ \\ \\ \\ \\ \\ \\ \\ \\ \\ \\ \\ \\ \\ \\ \\ \\ \\ \\ \\ \\ \\ \\ \\ \\ \\ \\ \\ \\ \\ \\ \\ \\ \\ \\ \\ \\ \\ \\ \\b{x}[0]=\\b{x}_0\\ \\ \\ $ this allows MPC to know where to start from (current states)"
   ]
  },
  {
   "cell_type": "markdown",
   "metadata": {},
   "source": [
    "One thing to note is that A needs to be updated at the beginning of each MPC control calculation. Although A is recalculated at every time step, it is a static value in MPC's eyes when predicting into the future. This could potentially be changed where MPC updates A for each step into the future, but that would be more computationally expensive.\n",
    "\n",
    "[TOC](#Table-of-Contents)"
   ]
  },
  {
   "cell_type": "markdown",
   "metadata": {},
   "source": [
    "## Simulation"
   ]
  },
  {
   "cell_type": "markdown",
   "metadata": {},
   "source": [
    "### Framework\n",
    "Since I had an existing framework built with Simulink, I decided to keep the code in MATLAB rather than redo everything in Python for this notebook. A repo containing the simulations can be found [here](https://github.com/mhask94/Quadcopter_MPC). This repo contains 2 directories: Lie_Group and Euler_Angles. Both directories have a simulation of a quadcopter. The difference is that the plant and controller both model attitude with either Euler angles or the SO(3) Lie Group. Further instruction on how to use the code can be found in the README from the link above.\n",
    "\n",
    "A diagram of the Simulink framework is shown below. There are 4 signal generators creating square waves as the reference commands for N, E, H, and psi. The reference commands along with the current states are passed into the controller. The controller uses the vectorized error-state for attitude (see [implementation](https://github.com/mhask94/Quadcopter_MPC/blob/master/Lie_Group/control.m#L7)). The controller outputs the 4 throttle commands, 1 for each motor. The control effort is plotted with the upper and lower bounds and is also the input to the dynamics block. The output of the dynamics block is all of the states. Note that there are 18 outputs when there are only 12 states needed to define the system. This is because the dynamics is using all 9 parameters in the rotation matrix rather than the 3 that are needed. This is so that the SO(3) Lie Group kinematics could be modeled: $\\dot{R}=R[\\bs{\\omega}]^\\wedge$. The rotation matrix is reshaped into a column vector with 9 elements so that it can be outputted from the s-function modeling the plant (see [implementation](https://github.com/mhask94/Quadcopter_MPC/blob/master/Lie_Group/dynamics.m#L154)). This rotation matrix along with all the other states are fed back into the controller. The current states for position and attitude (N,E,H,R) are also passed into the Draw Quadcopter block which creates the animation as well as plots all of the reference commands with the current respective states."
   ]
  },
  {
   "cell_type": "markdown",
   "metadata": {},
   "source": [
    "![Block Diagram of Simulink File](files/Quadcopter_sim_blockDiagram.png)"
   ]
  },
  {
   "cell_type": "markdown",
   "metadata": {},
   "source": [
    "[TOC](#Table-of-Contents)\n",
    "\n",
    "### Results"
   ]
  },
  {
   "cell_type": "markdown",
   "metadata": {},
   "source": [
    "#### Hourglass Waypoint Path Videos\n",
    "This section has a video for both the SO(3) controller and Euler angle controller showing the responses when commanded to fly an hourglass waypoint path. Besides just North and East, height and psi also have reference commands that change. Both controllers perform very similarly when flying this path. The SO(3) controller has some coupling effects that show up on the psi graph that Euler angles did not have. It is possible that some extra tuning could mitigate that coupling effect on psi, but I didn't want to try and tune gains forever.\n",
    "\n",
    "Here are the reference commands entered into Simulink for the square wave inputs:\n",
    "\n",
    "$N_d$: -2.5 m with frequency of .02 Hz and no offset\n",
    "\n",
    "$E_d$: 2.5 m with frequency of .04 Hz and no offset\n",
    "\n",
    "$H_d$: 0.5 m with frequency of .01 Hz and a 4.5 m offset\n",
    "\n",
    "$\\psi_d$: $\\frac{\\pi}{4}$ rad with frequency of .03 Hz and no offset"
   ]
  },
  {
   "cell_type": "markdown",
   "metadata": {},
   "source": [
    "##### Euler Angles"
   ]
  },
  {
   "cell_type": "code",
   "execution_count": 1,
   "metadata": {},
   "outputs": [
    {
     "data": {
      "text/html": [
       "<iframe width=\"853\" height=\"480\" src=\"https://www.youtube.com/embed/beyUARSyVbk\" frameborder=\"0\" allow=\"autoplay; encrypted-media\" allowfullscreen></iframe>"
      ],
      "text/plain": [
       "<IPython.core.display.HTML object>"
      ]
     },
     "execution_count": 1,
     "metadata": {},
     "output_type": "execute_result"
    }
   ],
   "source": [
    "from IPython.display import HTML\n",
    "\n",
    "# Youtube\n",
    "HTML('<iframe width=\"853\" height=\"480\" src=\"https://www.youtube.com/embed/beyUARSyVbk\" frameborder=\"0\" allow=\"autoplay; encrypted-media\" allowfullscreen></iframe>')"
   ]
  },
  {
   "cell_type": "markdown",
   "metadata": {},
   "source": [
    "##### SO(3)"
   ]
  },
  {
   "cell_type": "code",
   "execution_count": 2,
   "metadata": {},
   "outputs": [
    {
     "data": {
      "text/html": [
       "<iframe width=\"853\" height=\"480\" src=\"https://www.youtube.com/embed/4kyZHC4dqkA\" frameborder=\"0\" allow=\"autoplay; encrypted-media\" allowfullscreen></iframe>"
      ],
      "text/plain": [
       "<IPython.core.display.HTML object>"
      ]
     },
     "execution_count": 2,
     "metadata": {},
     "output_type": "execute_result"
    }
   ],
   "source": [
    "from IPython.display import HTML\n",
    "\n",
    "# Youtube\n",
    "HTML('<iframe width=\"853\" height=\"480\" src=\"https://www.youtube.com/embed/4kyZHC4dqkA\" frameborder=\"0\" allow=\"autoplay; encrypted-media\" allowfullscreen></iframe>')"
   ]
  },
  {
   "cell_type": "markdown",
   "metadata": {},
   "source": [
    "[TOC](#Table-of-Contents)\n",
    "\n",
    "#### Hourglass Waypoint Path Images\n",
    "This section contains images of the same results from the 2 videos above. They can be used to compare results without having to watch the videos all the way through and remember what the graphs looked like."
   ]
  },
  {
   "cell_type": "markdown",
   "metadata": {},
   "source": [
    "##### Euler Angles"
   ]
  },
  {
   "cell_type": "markdown",
   "metadata": {},
   "source": [
    "![Euler Angles Waypoint Response](files/EA_A-g_Response.png)"
   ]
  },
  {
   "cell_type": "markdown",
   "metadata": {},
   "source": [
    "##### SO(3)"
   ]
  },
  {
   "cell_type": "markdown",
   "metadata": {},
   "source": [
    "![Lie Group Waypoint Response](files/LieGroup_A-g_Response.png)"
   ]
  },
  {
   "cell_type": "markdown",
   "metadata": {},
   "source": [
    "[TOC](#Table-of-Contents)\n",
    "\n",
    "#### Angle Wrapping Videos\n",
    "This section has a video for both the SO(3) controller and Euler angle controller showing the responses when commanded to fly to the desired altitude and then test angle wrapping. The commanded value for psi is a full 360+45 degrees. As expected from previous Lie Group discussions, the Euler angle controller will spin all the way around plus the extra 45 degrees while the SO(3) controller only spins the the 45 degrees needed to reach the desired heading.\n",
    "\n",
    "Here are the reference commands entered into Simulink for the square wave inputs:\n",
    "\n",
    "$N_d$: 0 m with frequency of .02 Hz and no offset\n",
    "\n",
    "$E_d$: 0 m with frequency of .04 Hz and no offset\n",
    "\n",
    "$H_d$: 0.5 m with frequency of .01 Hz and a 4.5 m offset\n",
    "\n",
    "$\\psi_d$: $\\frac{9\\pi}{4}$ rad with frequency of .03 Hz and no offset"
   ]
  },
  {
   "cell_type": "markdown",
   "metadata": {},
   "source": [
    "##### Euler Angles"
   ]
  },
  {
   "cell_type": "code",
   "execution_count": 3,
   "metadata": {},
   "outputs": [
    {
     "data": {
      "text/html": [
       "<iframe width=\"853\" height=\"480\" src=\"https://www.youtube.com/embed/bszRjijxvT4\" frameborder=\"0\" allow=\"autoplay; encrypted-media\" allowfullscreen></iframe>"
      ],
      "text/plain": [
       "<IPython.core.display.HTML object>"
      ]
     },
     "execution_count": 3,
     "metadata": {},
     "output_type": "execute_result"
    }
   ],
   "source": [
    "from IPython.display import HTML\n",
    "\n",
    "# Youtube\n",
    "HTML('<iframe width=\"853\" height=\"480\" src=\"https://www.youtube.com/embed/bszRjijxvT4\" frameborder=\"0\" allow=\"autoplay; encrypted-media\" allowfullscreen></iframe>')"
   ]
  },
  {
   "cell_type": "markdown",
   "metadata": {},
   "source": [
    "##### SO(3)"
   ]
  },
  {
   "cell_type": "code",
   "execution_count": 4,
   "metadata": {},
   "outputs": [
    {
     "data": {
      "text/html": [
       "<iframe width=\"853\" height=\"480\" src=\"https://www.youtube.com/embed/dbhbHHqWNvw\" frameborder=\"0\" allow=\"autoplay; encrypted-media\" allowfullscreen></iframe>"
      ],
      "text/plain": [
       "<IPython.core.display.HTML object>"
      ]
     },
     "execution_count": 4,
     "metadata": {},
     "output_type": "execute_result"
    }
   ],
   "source": [
    "from IPython.display import HTML\n",
    "\n",
    "# Youtube\n",
    "HTML('<iframe width=\"853\" height=\"480\" src=\"https://www.youtube.com/embed/dbhbHHqWNvw\" frameborder=\"0\" allow=\"autoplay; encrypted-media\" allowfullscreen></iframe>')"
   ]
  },
  {
   "cell_type": "markdown",
   "metadata": {},
   "source": [
    "[TOC](#Table-of-Contents)\n",
    "\n",
    "#### Angle Wrapping Images"
   ]
  },
  {
   "cell_type": "markdown",
   "metadata": {},
   "source": [
    "##### Euler Angles"
   ]
  },
  {
   "cell_type": "markdown",
   "metadata": {},
   "source": [
    "![Euler Angles Wrapping](files/EA_wrapping.png)"
   ]
  },
  {
   "cell_type": "markdown",
   "metadata": {},
   "source": [
    "##### SO(3)"
   ]
  },
  {
   "cell_type": "markdown",
   "metadata": {},
   "source": [
    "![Lie Group Wrapping](files/LieGroup_wrapping.png)"
   ]
  },
  {
   "cell_type": "markdown",
   "metadata": {},
   "source": [
    "[TOC](#Table-of-Contents)\n",
    "\n",
    "#### Smart Angle Videos\n",
    "This section shows one of the main advantages of using Lie Groups versus other attitude representations. Lie Groups always travel the shortes distance to get to the desired attitude. To show this, the following videos will use a reference command for psi of 180+30 degrees in a square wave. The Euler angle controller will rotate the 180 degrees plus an extra 30, while the SO(3) controller will initially rotate in the oposite direction 150 degrees to get to the same place. After that, the SO(3) controller will just rotate 60 degrees to the new position when the square wave signal changes rather than spin all the way around like the Euler angle controller.\n",
    "\n",
    "Here are the reference commands entered into Simulink for the square wave inputs:\n",
    "\n",
    "$N_d$: 0 m with frequency of .02 Hz and no offset\n",
    "\n",
    "$E_d$: 0 m with frequency of .04 Hz and no offset\n",
    "\n",
    "$H_d$: 0.5 m with frequency of .01 Hz and a 4.5 m offset\n",
    "\n",
    "$\\psi_d$: $\\frac{7\\pi}{6}$ rad with frequency of .03 Hz and no offset"
   ]
  },
  {
   "cell_type": "markdown",
   "metadata": {},
   "source": [
    "##### Euler Angles"
   ]
  },
  {
   "cell_type": "code",
   "execution_count": 5,
   "metadata": {},
   "outputs": [
    {
     "data": {
      "text/html": [
       "<iframe width=\"853\" height=\"480\" src=\"https://www.youtube.com/embed/JZvuk1xPpD8\" frameborder=\"0\" allow=\"autoplay; encrypted-media\" allowfullscreen></iframe>"
      ],
      "text/plain": [
       "<IPython.core.display.HTML object>"
      ]
     },
     "execution_count": 5,
     "metadata": {},
     "output_type": "execute_result"
    }
   ],
   "source": [
    "from IPython.display import HTML\n",
    "\n",
    "# Youtube\n",
    "HTML('<iframe width=\"853\" height=\"480\" src=\"https://www.youtube.com/embed/JZvuk1xPpD8\" frameborder=\"0\" allow=\"autoplay; encrypted-media\" allowfullscreen></iframe>')"
   ]
  },
  {
   "cell_type": "markdown",
   "metadata": {},
   "source": [
    "##### SO(3)"
   ]
  },
  {
   "cell_type": "code",
   "execution_count": 6,
   "metadata": {},
   "outputs": [
    {
     "data": {
      "text/html": [
       "<iframe width=\"853\" height=\"480\" src=\"https://www.youtube.com/embed/5Nbp1HTnkKs\" frameborder=\"0\" allow=\"autoplay; encrypted-media\" allowfullscreen></iframe>"
      ],
      "text/plain": [
       "<IPython.core.display.HTML object>"
      ]
     },
     "execution_count": 6,
     "metadata": {},
     "output_type": "execute_result"
    }
   ],
   "source": [
    "from IPython.display import HTML\n",
    "\n",
    "# Youtube\n",
    "HTML('<iframe width=\"853\" height=\"480\" src=\"https://www.youtube.com/embed/5Nbp1HTnkKs\" frameborder=\"0\" allow=\"autoplay; encrypted-media\" allowfullscreen></iframe>')"
   ]
  },
  {
   "cell_type": "markdown",
   "metadata": {},
   "source": [
    "[TOC](#Table-of-Contents)\n",
    "\n",
    "#### Smart Angle Images"
   ]
  },
  {
   "cell_type": "markdown",
   "metadata": {},
   "source": [
    "##### Euler Angles"
   ]
  },
  {
   "cell_type": "markdown",
   "metadata": {},
   "source": [
    "![Euler Angles Smart Angle](files/EA_smart_angle.png)"
   ]
  },
  {
   "cell_type": "markdown",
   "metadata": {},
   "source": [
    "##### SO(3)"
   ]
  },
  {
   "cell_type": "markdown",
   "metadata": {},
   "source": [
    "![Lie Group Smart Angle](files/LieGroup_smart_angle.png)"
   ]
  },
  {
   "cell_type": "markdown",
   "metadata": {},
   "source": [
    "[TOC](#Table-of-Contents)"
   ]
  }
 ],
 "metadata": {
  "kernelspec": {
   "display_name": "Python 3",
   "language": "python",
   "name": "python3"
  },
  "language_info": {
   "codemirror_mode": {
    "name": "ipython",
    "version": 3
   },
   "file_extension": ".py",
   "mimetype": "text/x-python",
   "name": "python",
   "nbconvert_exporter": "python",
   "pygments_lexer": "ipython3",
   "version": "3.5.2"
  }
 },
 "nbformat": 4,
 "nbformat_minor": 2
}
